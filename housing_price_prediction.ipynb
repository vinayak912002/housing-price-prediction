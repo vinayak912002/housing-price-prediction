{
 "cells": [
  {
   "cell_type": "markdown",
   "metadata": {},
   "source": [
    "### what we are going to do\n",
    "* load the training and testing data\n",
    "* make sure there is no data leakage (target leakage and train-test contamination)\n",
    "* train the model (xgboost) and cross validate the scores with rmse as parameter\n",
    "* predict the results and store the results in a csv file"
   ]
  },
  {
   "cell_type": "code",
   "execution_count": 2,
   "metadata": {},
   "outputs": [],
   "source": [
    "import pandas as pd\n",
    "from xgboost import XGBRegressor\n",
    "from sklearn.model_selection import cross_val_score\n",
    "from sklearn.pipeline import Pipeline\n",
    "from sklearn.impute import SimpleImputer\n",
    "from sklearn.preprocessing import OneHotEncoder\n",
    "from sklearn.compose import ColumnTransformer"
   ]
  },
  {
   "cell_type": "code",
   "execution_count": 3,
   "metadata": {},
   "outputs": [
    {
     "data": {
      "text/plain": [
       "Index(['Id', 'MSSubClass', 'MSZoning', 'LotFrontage', 'LotArea', 'Street',\n",
       "       'Alley', 'LotShape', 'LandContour', 'Utilities', 'LotConfig',\n",
       "       'LandSlope', 'Neighborhood', 'Condition1', 'Condition2', 'BldgType',\n",
       "       'HouseStyle', 'OverallQual', 'OverallCond', 'YearBuilt', 'YearRemodAdd',\n",
       "       'RoofStyle', 'RoofMatl', 'Exterior1st', 'Exterior2nd', 'MasVnrType',\n",
       "       'MasVnrArea', 'ExterQual', 'ExterCond', 'Foundation', 'BsmtQual',\n",
       "       'BsmtCond', 'BsmtExposure', 'BsmtFinType1', 'BsmtFinSF1',\n",
       "       'BsmtFinType2', 'BsmtFinSF2', 'BsmtUnfSF', 'TotalBsmtSF', 'Heating',\n",
       "       'HeatingQC', 'CentralAir', 'Electrical', '1stFlrSF', '2ndFlrSF',\n",
       "       'LowQualFinSF', 'GrLivArea', 'BsmtFullBath', 'BsmtHalfBath', 'FullBath',\n",
       "       'HalfBath', 'BedroomAbvGr', 'KitchenAbvGr', 'KitchenQual',\n",
       "       'TotRmsAbvGrd', 'Functional', 'Fireplaces', 'FireplaceQu', 'GarageType',\n",
       "       'GarageYrBlt', 'GarageFinish', 'GarageCars', 'GarageArea', 'GarageQual',\n",
       "       'GarageCond', 'PavedDrive', 'WoodDeckSF', 'OpenPorchSF',\n",
       "       'EnclosedPorch', '3SsnPorch', 'ScreenPorch', 'PoolArea', 'PoolQC',\n",
       "       'Fence', 'MiscFeature', 'MiscVal', 'MoSold', 'YrSold', 'SaleType',\n",
       "       'SaleCondition', 'SalePrice'],\n",
       "      dtype='object')"
      ]
     },
     "execution_count": 3,
     "metadata": {},
     "output_type": "execute_result"
    }
   ],
   "source": [
    "# loading data and removing the price column\n",
    "train_data = pd.read_csv(\"train.csv\")\n",
    "test_data = pd.read_csv(\"test.csv\")\n",
    "train_data.columns"
   ]
  },
  {
   "cell_type": "code",
   "execution_count": 4,
   "metadata": {},
   "outputs": [],
   "source": [
    "# preventing data leakage by removing ambiguous columns\n",
    "# xgboost needs columns with the maximum variability\n",
    "numerical_features = ['LotArea', 'OverallQual', 'OverallCond', 'YearBuilt', 'YearRemodAdd', 'TotalBsmtSF', '1stFlrSF', '2ndFlrSF',\n",
    "                      'GrLivArea', 'BedroomAbvGr', 'TotRmsAbvGrd', 'GarageArea', 'GarageYrBlt', 'PoolArea', 'KitchenAbvGr']\n",
    "categorical_features = ['MSZoning', 'LandContour', 'Utilities', 'LandSlope', 'Neighborhood', 'SaleType','KitchenQual']\n",
    "\n",
    "tot_cols = numerical_features+categorical_features\n",
    "\n",
    "X = train_data[tot_cols]\n",
    "y = train_data.SalePrice\n"
   ]
  },
  {
   "cell_type": "code",
   "execution_count": 5,
   "metadata": {},
   "outputs": [],
   "source": [
    "# making preprocessing piplines\n",
    "numerical_preprocessor = Pipeline(steps=[\n",
    "    ('impute', SimpleImputer(strategy='mean'))\n",
    "])\n",
    "\n",
    "categorical_preprocessor = Pipeline(steps=[\n",
    "    ('impute', SimpleImputer(strategy='most_frequent')),\n",
    "    ('oh_encode', OneHotEncoder(handle_unknown='ignore'))\n",
    "])\n",
    "\n",
    "#combining pipelines\n",
    "preprocessor = ColumnTransformer(transformers=[\n",
    "    ('num', numerical_preprocessor, numerical_features),\n",
    "    ('cat', categorical_preprocessor, categorical_features)\n",
    "])"
   ]
  },
  {
   "cell_type": "code",
   "execution_count": 6,
   "metadata": {},
   "outputs": [],
   "source": [
    "#making machine learning model pipeline\n",
    "my_pipeline = Pipeline(steps=[\n",
    "    ('preprocessing', preprocessor),\n",
    "    ('xgb', XGBRegressor(n_estimators =300, learning_rate = 0.06))\n",
    "])"
   ]
  },
  {
   "cell_type": "markdown",
   "metadata": {},
   "source": [
    "### approach2 \n",
    "dropping the columns with missing values"
   ]
  },
  {
   "cell_type": "code",
   "execution_count": 7,
   "metadata": {},
   "outputs": [],
   "source": [
    "#defining a class which can integrate with sciliit-learn pipeline\n",
    "\n",
    "from sklearn.base import TransformerMixin\n",
    "\n",
    "class DropMissingColumns(TransformerMixin):\n",
    "    def fit(self, X, y=None):\n",
    "        self.columns_to_drop = X.columns[X.isnull().any().tolist()]\n",
    "        return self\n",
    "    \n",
    "    def transform(self, X):\n",
    "        return X.drop(columns=self.columns_to_drop)"
   ]
  },
  {
   "cell_type": "code",
   "execution_count": 8,
   "metadata": {},
   "outputs": [],
   "source": [
    "#defining the new pipeline\n",
    "numerical_preprocessor_2 = Pipeline(steps=[\n",
    "    ('drop_missing', DropMissingColumns())\n",
    "])\n",
    "\n",
    "categorical_preprocessor_2 = Pipeline(steps=[\n",
    "   ('drop_missing', DropMissingColumns()),\n",
    "   ('oh_encoding', OneHotEncoder(handle_unknown='ignore')) \n",
    "])\n",
    "preprocessor_2 = ColumnTransformer(transformers=[\n",
    "    ('num', numerical_preprocessor_2, numerical_features),\n",
    "    ('cat', categorical_preprocessor_2, categorical_features)\n",
    "])\n",
    "\n",
    "my_pipeline_2 = Pipeline(steps=(\n",
    "    ('preprocess', preprocessor_2),\n",
    "    ('xgb', XGBRegressor(n_estimators=300, learning_rate=0.06))\n",
    "))"
   ]
  },
  {
   "cell_type": "code",
   "execution_count": 9,
   "metadata": {},
   "outputs": [
    {
     "data": {
      "text/plain": [
       "np.float64(973310.607951469)"
      ]
     },
     "execution_count": 9,
     "metadata": {},
     "output_type": "execute_result"
    }
   ],
   "source": [
    "# mae for the model - columns not dropped\n",
    "scores = -1 * cross_val_score(my_pipeline, X, y,\n",
    "                         scoring='neg_mean_absolute_error',\n",
    "                         cv= 5)\n",
    "scores.var()"
   ]
  },
  {
   "cell_type": "code",
   "execution_count": 10,
   "metadata": {},
   "outputs": [
    {
     "data": {
      "text/plain": [
       "np.float64(1078831.2181048964)"
      ]
     },
     "execution_count": 10,
     "metadata": {},
     "output_type": "execute_result"
    }
   ],
   "source": [
    "#mae of dropped columns\n",
    "scores2 = -1 * cross_val_score(my_pipeline_2, X, y,\n",
    "                         scoring='neg_mean_absolute_error',\n",
    "                         cv= 5)\n",
    "scores2.var()"
   ]
  },
  {
   "cell_type": "code",
   "execution_count": 11,
   "metadata": {},
   "outputs": [
    {
     "name": "stdout",
     "output_type": "stream",
     "text": [
      "score 1 :  17588.443420911815\n",
      "score 2 :  17538.637692636985\n"
     ]
    }
   ],
   "source": [
    "print(\"score 1 : \", scores.mean())\n",
    "print(\"score 2 : \", scores2.mean())"
   ]
  },
  {
   "cell_type": "markdown",
   "metadata": {},
   "source": [
    "### future agenda -\n",
    "* understand why variance is occurring and try to eliminate it\n",
    "* search for ways to improve the accuracy of the model"
   ]
  }
 ],
 "metadata": {
  "kernelspec": {
   "display_name": ".venv",
   "language": "python",
   "name": "python3"
  },
  "language_info": {
   "codemirror_mode": {
    "name": "ipython",
    "version": 3
   },
   "file_extension": ".py",
   "mimetype": "text/x-python",
   "name": "python",
   "nbconvert_exporter": "python",
   "pygments_lexer": "ipython3",
   "version": "3.12.3"
  }
 },
 "nbformat": 4,
 "nbformat_minor": 2
}
